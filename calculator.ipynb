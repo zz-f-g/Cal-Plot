{
 "cells": [
  {
   "cell_type": "markdown",
   "metadata": {},
   "source": [
    "# Calculator"
   ]
  },
  {
   "cell_type": "markdown",
   "metadata": {},
   "source": [
    "## An Example of Plot"
   ]
  },
  {
   "cell_type": "code",
   "execution_count": null,
   "metadata": {},
   "outputs": [],
   "source": [
    "import numpy as np\n",
    "import matplotlib.pyplot as plt\n",
    "\n",
    "f=lambda x:-15/2*x**2+350*x + 5250\n",
    "g=lambda x:9280\n",
    "x=np.linspace(10,30,100)\n",
    "y=list(map(f,x))\n",
    "z=list(map(g,x))\n",
    "plt.plot(x,y,'-',x,z,'--')\n",
    "plt.show()\n",
    "'''\n",
    "\n",
    "a = np.linspace(-1,1,300)\n",
    "b=np.arctan(a)+np.arctan(1/a)\n",
    "plt.plot(a,b,'-')\n",
    "plt.title('y = arctan x')\n",
    "plt.show()\n",
    "'''"
   ]
  },
  {
   "cell_type": "markdown",
   "metadata": {},
   "source": [
    "## Calculate Rational Numbers"
   ]
  },
  {
   "cell_type": "code",
   "execution_count": null,
   "metadata": {},
   "outputs": [],
   "source": [
    "from sympy import *\n",
    "print(latex(Rational(11,24)/sqrt(Rational(11*41,16*36))))"
   ]
  },
  {
   "cell_type": "markdown",
   "metadata": {},
   "source": [
    "## Calculate Complex Numbers"
   ]
  },
  {
   "cell_type": "code",
   "execution_count": null,
   "metadata": {},
   "outputs": [],
   "source": [
    "import cmath\n",
    "a = 3 + 4j\n",
    "# print(cmath.polar(a))\n",
    "# print(a.conjugate())\n",
    "# print(a.imag)\n",
    "# print(a.real)\n",
    "# print(cmath.polar(cmath.exp(a)))\n",
    "# print(cmath.log(-1))\n",
    "1/(1000*(1000j*(100+3000j)/(100+4000j)).imag)"
   ]
  },
  {
   "cell_type": "markdown",
   "metadata": {},
   "source": [
    "## 双折射问题：沃拉斯顿棱镜"
   ]
  },
  {
   "cell_type": "code",
   "execution_count": null,
   "metadata": {},
   "outputs": [],
   "source": [
    "from math import asin, sqrt, pi\n",
    "no = 1.6584\n",
    "ne = 1.4864\n",
    "r2 = asin(no/ne/sqrt(2))\n",
    "r1 = asin(ne/no/sqrt(2))\n",
    "print((r2 - r1)/pi*180)"
   ]
  },
  {
   "cell_type": "markdown",
   "metadata": {},
   "source": [
    "## 线性代数的矩阵对角化"
   ]
  },
  {
   "cell_type": "code",
   "execution_count": null,
   "metadata": {},
   "outputs": [],
   "source": [
    "from sympy import *\n",
    "A = Matrix(3,3,[2,0,0,1,-2,1,1,-4,3])\n",
    "P = Matrix(3,3,[0,4,-1,1,1,0,1,0,1])\n",
    "D = diag(-1,2,2)\n",
    "print(A - P*D*P**(-1))"
   ]
  },
  {
   "cell_type": "code",
   "execution_count": null,
   "metadata": {},
   "outputs": [],
   "source": [
    "from sympy import *\n",
    "from sympy.abc import x,y,z,w\n",
    "A = Matrix(3,3,[1,2,2,2,1,-2,2,-2,1])\n",
    "det(A)\n",
    "A*diag(3,-3,0)*A**(-1)"
   ]
  },
  {
   "cell_type": "code",
   "execution_count": null,
   "metadata": {},
   "outputs": [],
   "source": [
    "from sympy import*\n",
    "A = Matrix(3,4,[-2,1,1,0,1,-2,1,3,1,1,-2,-3])\n",
    "pprint(A.rref())"
   ]
  },
  {
   "cell_type": "markdown",
   "metadata": {},
   "source": [
    "## Poisson Distribution\n",
    "\n",
    "$$\n",
    "X \\sim P(\\lambda) \\\\\n",
    "P(X = k) = e^{-\\lambda} \\frac{\\lambda^k}{k!}\n",
    "$$"
   ]
  },
  {
   "cell_type": "code",
   "execution_count": null,
   "metadata": {},
   "outputs": [],
   "source": [
    "from math import factorial\n",
    "from math import e\n",
    "\n",
    "def Poisson(expectation):\n",
    "    if expectation < 0:\n",
    "        return None\n",
    "    else:\n",
    "        def poisson(x):\n",
    "            if x>0 and x == int(x):\n",
    "                s = 1\n",
    "                for i in range(1,x+1):\n",
    "                    s*=i\n",
    "                return e**(-expectation)*expectation**(x)/s\n",
    "            else:\n",
    "                return 0\n",
    "    return poisson"
   ]
  },
  {
   "cell_type": "code",
   "execution_count": null,
   "metadata": {},
   "outputs": [],
   "source": [
    "import numpy as np\n",
    "import matplotlib.pylab as plt\n",
    "\n",
    "vars = np.arange(0,20)\n",
    "possibility = list(map(Poisson(3),vars))\n",
    "plt.plot(vars, possibility,'-')"
   ]
  },
  {
   "cell_type": "markdown",
   "metadata": {},
   "source": [
    "## Normal Distribution and Error Function\n",
    "\n",
    "标准正态分布概率分布函数\n",
    "$$\n",
    "\\Phi(x) = \\int_{-\\infty}^{x} \\frac{1}{\\sqrt{2 \\pi}} e^{- \\frac{x^2}{2}} \\mathrm{d}t\n",
    "$$\n",
    "\n",
    "高斯误差函数\n",
    "$$\n",
    "\\mathrm{erf}(x) = \\frac{2}{\\sqrt{\\pi}}\\int_0^x e^{-t^2} \\mathrm{d}t\n",
    "$$"
   ]
  },
  {
   "cell_type": "code",
   "execution_count": null,
   "metadata": {},
   "outputs": [],
   "source": [
    "from sympy import erf\n",
    "def Phi(x):\n",
    "    return (erf(x/(2**(1/2)))+1)/2\n",
    "\n",
    "#Phi((11-6)/6**(0.5))\n",
    "n=1\n",
    "while (2*Phi(5*(3/n)**(0.5))-1.99>0):\n",
    "    n+=1\n",
    "print(n-1)"
   ]
  },
  {
   "cell_type": "markdown",
   "metadata": {},
   "source": [
    "## 部分分式展开"
   ]
  },
  {
   "cell_type": "code",
   "execution_count": null,
   "metadata": {},
   "outputs": [],
   "source": [
    "from sympy import apart, Rational, latex, pprint\n",
    "from sympy.abc import s\n",
    "\n",
    "I1 = (s+1)/(s*(s+Rational(1,2))*(s+Rational(7,2)))\n",
    "I2 = 1/(s*(s+Rational(1,2))*(s+Rational(7,2)))\n",
    "pprint(I2)\n",
    "pprint(apart(I2))"
   ]
  },
  {
   "cell_type": "markdown",
   "metadata": {},
   "source": [
    "## Laplace Transform\n",
    "$$\n",
    "L[f(t)] = \\int_0^{\\infty} e^{-st} f(t) \\mathrm{d}t\n",
    "$$\n",
    "\n",
    "$$\n",
    "L(\\cos \\omega t) = \\frac{s}{s^2 + \\omega^2}\n",
    "$$"
   ]
  },
  {
   "cell_type": "code",
   "execution_count": null,
   "metadata": {},
   "outputs": [],
   "source": [
    "from sympy import *\n",
    "from sympy.abc import s, t, omega\n",
    "pprint(integrate(E**(-s*t)*cos(omega*t),(t,0,oo)),use_unicode = False)"
   ]
  },
  {
   "cell_type": "markdown",
   "metadata": {},
   "source": [
    "## Elementary Matrix"
   ]
  },
  {
   "cell_type": "code",
   "execution_count": null,
   "metadata": {},
   "outputs": [],
   "source": [
    "from sympy import eye\n",
    "def Interchange_EleMat(n,row1,row2):\n",
    "    I_n = eye(n)\n",
    "    temp = I_n[row1-1,:]\n",
    "    I_n[row1-1,:] = I_n[row2-1,:]\n",
    "    I_n[row2-1,:] = temp\n",
    "    return I_n\n",
    "def Scaling_EleMat(n,row,time):\n",
    "    I_n = eye(n)\n",
    "    I_n[row-1,:] *= time\n",
    "    return I_n\n",
    "def Replacement_EleMat(n,row1,row2,time):\n",
    "    I_n = eye(n)\n",
    "    I_n[row1-1,:] += time*I_n[row2-1,:]\n",
    "    return I_n"
   ]
  },
  {
   "cell_type": "markdown",
   "metadata": {},
   "source": [
    "## RREF\n",
    "\n",
    "row reduction echelon form"
   ]
  },
  {
   "cell_type": "code",
   "execution_count": null,
   "metadata": {},
   "outputs": [],
   "source": [
    "#run upper code cell first\n",
    "from sympy import Matrix,eye,Rational,pprint\n",
    "A = Matrix(3,3,[0,2,1,2,-1,3,-3,3,-4])\n",
    "B = Matrix(2,3,[1,2,3,2,-3,1])\n",
    "C = A.row_join(eye(3))\n",
    "# pprint(C)\n",
    "C = Replacement_EleMat(3,2,3,Rational(2,3)) * C\n",
    "C = Scaling_EleMat(3,3,Rational(-1,3))* Replacement_EleMat(3,1,2,-2)*C\n",
    "C = Replacement_EleMat(3,2,1,-1)*Replacement_EleMat(3,3,1,-4)*C\n",
    "C = Interchange_EleMat(3,1,3)* Replacement_EleMat(3,3,2,1)*Scaling_EleMat(3,1,3)*C\n",
    "A_inv = C[:,3:]\n",
    "# pprint(A_inv)\n",
    "B*A_inv"
   ]
  },
  {
   "cell_type": "markdown",
   "metadata": {},
   "source": [
    "## Random Matrix"
   ]
  },
  {
   "cell_type": "code",
   "execution_count": null,
   "metadata": {},
   "outputs": [],
   "source": [
    "from sympy import Matrix,pprint\n",
    "from random import randint\n",
    "def rank(A):\n",
    "    return len(A.rref()[-1])\n",
    "def f(i,j):\n",
    "    return randint(-3,3)\n",
    "m = randint(1,3)\n",
    "n = randint(1,3)\n",
    "A = Matrix(m,n,f)\n",
    "B = Matrix(n,m,f)\n",
    "#pprint(A)\n",
    "#pprint(B)\n",
    "rank(A*B)-rank(B*A)"
   ]
  },
  {
   "cell_type": "code",
   "execution_count": null,
   "metadata": {},
   "outputs": [],
   "source": [
    "from math import atan,pi,log10,sqrt\n",
    "0.3**4+4*0.7*0.3**3\n",
    "2*0.9772-1"
   ]
  },
  {
   "cell_type": "code",
   "execution_count": 1,
   "metadata": {},
   "outputs": [
    {
     "name": "stdout",
     "output_type": "stream",
     "text": [
      "⎡-1  1  1 ⎤\n",
      "⎢         ⎥\n",
      "⎢1   0  -2⎥\n",
      "⎢         ⎥\n",
      "⎣0   1  3 ⎦\n"
     ]
    },
    {
     "data": {
      "text/plain": [
       "Matrix([\n",
       "[2, 0, 0],\n",
       "[0, 2, 0],\n",
       "[0, 0, 6]])"
      ]
     },
     "execution_count": 1,
     "metadata": {},
     "output_type": "execute_result"
    }
   ],
   "source": [
    "from sympy import Matrix,expand,factor,pprint\n",
    "from sympy.abc import x\n",
    "A = Matrix(3,3,[1,-1,1,2,4,-2,-3,-3,5])\n",
    "P = Matrix(3,3,[-1,1,1,1,0,-2,0,1,3])\n",
    "pprint(P)\n",
    "P**(-1)*A*P"
   ]
  },
  {
   "cell_type": "markdown",
   "metadata": {},
   "source": [
    "## calculate grade"
   ]
  },
  {
   "cell_type": "code",
   "execution_count": null,
   "metadata": {},
   "outputs": [],
   "source": [
    "def AvgGrade(credit,score):\n",
    "    if len(credit)==len(score):\n",
    "        n = len(credit)\n",
    "        s=0\n",
    "        for i in range(n):\n",
    "            s+=credit[i]*score[i]\n",
    "        return s/sum(credit)\n",
    "    else:\n",
    "        return -1\n",
    "\n",
    "credit1=[1.5,3,4,3,2,2,2,4,2,1,3,0.5,1.5]\n",
    "score1=[4,4,5,5,5,5,5,5,5,3,4,5,5]\n",
    "\n",
    "credit2=[2,1.5,2,2,1,2,2,2,1,2,2,3,0.5,3]\n",
    "score2=[5,5,4,4,5,5,5,5,5,5,5,4,5,4]\n",
    "\n",
    "credit3=[3,1,4,2,3,3,2]\n",
    "score3=[4,5,5,5,5,5,5]\n",
    "\n",
    "grade = AvgGrade(credit1+credit2+credit3,score1+score2+score3)\n",
    "sum(credit1+credit2+credit3)"
   ]
  },
  {
   "cell_type": "markdown",
   "metadata": {},
   "source": [
    "## Pascal Triangle\n",
    "\n",
    "把每一行看作一个列表，试写一个生成器，不断输出下一行的列表。"
   ]
  },
  {
   "cell_type": "code",
   "execution_count": null,
   "metadata": {},
   "outputs": [],
   "source": [
    "def PascalTrg():\n",
    "    last_row = [1]\n",
    "    n = 1\n",
    "    yield last_row\n",
    "    while True:\n",
    "        row = [1]\n",
    "        for i in range(n-1):\n",
    "            row.append(last_row[i]+last_row[i+1])\n",
    "        row.append(1)\n",
    "        yield row\n",
    "        n += 1\n",
    "        last_row = row[:]"
   ]
  },
  {
   "cell_type": "code",
   "execution_count": null,
   "metadata": {},
   "outputs": [],
   "source": [
    "# test\n",
    "n = 0\n",
    "results = []\n",
    "PT = PascalTrg()\n",
    "for t in PT: # 这里直接写 for t in PascalTrg(): 也可以。\n",
    "    results.append(t)\n",
    "    n = n + 1\n",
    "    if n == 10:\n",
    "        break\n",
    "\n",
    "for t in results:\n",
    "    print(t)\n",
    "\n",
    "if results == [\n",
    "    [1],\n",
    "    [1, 1],\n",
    "    [1, 2, 1],\n",
    "    [1, 3, 3, 1],\n",
    "    [1, 4, 6, 4, 1],\n",
    "    [1, 5, 10, 10, 5, 1],\n",
    "    [1, 6, 15, 20, 15, 6, 1],\n",
    "    [1, 7, 21, 35, 35, 21, 7, 1],\n",
    "    [1, 8, 28, 56, 70, 56, 28, 8, 1],\n",
    "    [1, 9, 36, 84, 126, 126, 84, 36, 9, 1]\n",
    "]:\n",
    "    print('测试通过!')\n",
    "else:\n",
    "    print('测试失败!')"
   ]
  },
  {
   "cell_type": "markdown",
   "metadata": {},
   "source": [
    "## String to Floats"
   ]
  },
  {
   "cell_type": "code",
   "execution_count": null,
   "metadata": {},
   "outputs": [],
   "source": [
    "from functools import reduce\n",
    "def str2floats(s):\n",
    "    sgn = 1\n",
    "    if s[0] == '-':\n",
    "        sgn = -1\n",
    "        s = s[1:]\n",
    "    def char2num(char):\n",
    "        DIGITS = {'0':0, '1':1, '2':2, '3':3, '4':4, \n",
    "        '5':5, '6':6, '7':7, '8':8, '9':9}\n",
    "        if char in DIGITS:\n",
    "            return DIGITS[char]\n",
    "        else:\n",
    "            return 0 # TypeError\n",
    "    cnt = 0\n",
    "    for char in s:\n",
    "        if char == '.':\n",
    "            break\n",
    "        cnt += 1\n",
    "    integer = reduce(lambda x, y: 10*x + y, map(char2num, s[0:cnt]))\n",
    "    if cnt < len(s):\n",
    "        decimal = reduce(lambda x, y: 10*x + y, map(char2num, s[cnt+1:len(s)]))\n",
    "        return sgn*(integer + decimal/(10**(len(s)-cnt-1)))\n",
    "    elif cnt == len(s):\n",
    "        return sgn*integer"
   ]
  },
  {
   "cell_type": "code",
   "execution_count": null,
   "metadata": {},
   "outputs": [],
   "source": []
  }
 ],
 "metadata": {
  "interpreter": {
   "hash": "07efdcd4b820c98a756949507a4d29d7862823915ec7477944641bea022f4f62"
  },
  "kernelspec": {
   "display_name": "Python 3.7.0 64-bit ('base': conda)",
   "name": "python3"
  },
  "language_info": {
   "codemirror_mode": {
    "name": "ipython",
    "version": 3
   },
   "file_extension": ".py",
   "mimetype": "text/x-python",
   "name": "python",
   "nbconvert_exporter": "python",
   "pygments_lexer": "ipython3",
   "version": "3.7.0"
  }
 },
 "nbformat": 4,
 "nbformat_minor": 2
}
