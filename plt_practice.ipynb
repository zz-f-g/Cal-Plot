{
 "cells": [
  {
   "cell_type": "markdown",
   "id": "7e5edd82",
   "metadata": {},
   "source": [
    "# For Beginners"
   ]
  },
  {
   "cell_type": "code",
   "execution_count": null,
   "id": "8cfe6952-3d3a-4732-9ae2-9edb79a8b4bd",
   "metadata": {},
   "outputs": [],
   "source": [
    "import numpy as np\n",
    "import matplotlib.pylab as plt"
   ]
  },
  {
   "cell_type": "markdown",
   "id": "ad4146b3-1e8f-427e-b493-dd9e804c0bd1",
   "metadata": {},
   "source": [
    "##  Choose 选择适合自己的图形类型"
   ]
  },
  {
   "cell_type": "markdown",
   "id": "32ef1786-8d78-490d-9591-a9766991aad8",
   "metadata": {},
   "source": [
    "### line plot 线图"
   ]
  },
  {
   "cell_type": "code",
   "execution_count": null,
   "id": "1075bd18-b6bc-4592-9f93-f146aec77053",
   "metadata": {},
   "outputs": [],
   "source": [
    "X = np.linspace(0,4*np.pi,1000)\n",
    "Y = np.sin(X)\n",
    "\n",
    "fig, ax = plt.subplots()\n",
    "ax.plot(X,Y)\n",
    "fig.show()"
   ]
  },
  {
   "cell_type": "markdown",
   "id": "f765ba0a-0f7f-43c9-9f94-1c66bd273852",
   "metadata": {},
   "source": [
    "### scatter plot 散点图"
   ]
  },
  {
   "cell_type": "code",
   "execution_count": null,
   "id": "b25cda9f-af77-4aa2-aac6-b03df652c191",
   "metadata": {},
   "outputs": [],
   "source": [
    "X = np.random.uniform(0,1,100)\n",
    "Y = np.random.uniform(0,1,100)\n",
    "\n",
    "fig, ax = plt.subplots()\n",
    "ax.scatter(X,Y)\n",
    "fig.show()"
   ]
  },
  {
   "cell_type": "markdown",
   "id": "e5e7473e-d203-41b0-a4c9-b4c87f9043d6",
   "metadata": {},
   "source": [
    "### bar plot 条形图"
   ]
  },
  {
   "cell_type": "code",
   "execution_count": null,
   "id": "27e94298-7257-4faf-a041-54aa1bf89370",
   "metadata": {},
   "outputs": [],
   "source": [
    "X = np.arange(10)\n",
    "Y = np.random.uniform(0,10,10)\n",
    "\n",
    "fig, ax = plt.subplots()\n",
    "ax.bar(X,Y)\n",
    "fig.show()"
   ]
  },
  {
   "cell_type": "markdown",
   "id": "c624ba65-c750-4e1f-b38f-757a2a66bccd",
   "metadata": {},
   "source": [
    "### image plot 栅格图"
   ]
  },
  {
   "cell_type": "code",
   "execution_count": null,
   "id": "c5776c63-f826-4636-b074-955a2cd2379a",
   "metadata": {},
   "outputs": [],
   "source": [
    "Z = np.random.uniform(0,1,(8,8))\n",
    "\n",
    "fig, ax = plt.subplots()\n",
    "ax.imshow(Z)\n",
    "fig.show()"
   ]
  },
  {
   "cell_type": "markdown",
   "id": "24bcfa0d-833e-4462-bb05-d7b6c55a8338",
   "metadata": {},
   "source": [
    "### contourf plot 等值线"
   ]
  },
  {
   "cell_type": "code",
   "execution_count": null,
   "id": "020158ac-ff37-4bd5-836d-72c4f2ce5ffa",
   "metadata": {},
   "outputs": [],
   "source": [
    "Z = np.random.uniform(0,1,(8,8))\n",
    "\n",
    "fig, ax = plt.subplots()\n",
    "ax.contourf(Z)\n",
    "fig.show()"
   ]
  },
  {
   "cell_type": "markdown",
   "id": "00d4cdbb-1073-4b0b-bc68-8bf4e0c252bc",
   "metadata": {},
   "source": [
    "### pie plot 饼图"
   ]
  },
  {
   "cell_type": "code",
   "execution_count": null,
   "id": "33643ff9-2dc3-4ae7-addf-b2c2e01433c3",
   "metadata": {},
   "outputs": [],
   "source": [
    "Z = np.random.uniform(0,1,4)\n",
    "\n",
    "fig, ax = plt.subplots()\n",
    "ax.pie(Z)\n",
    "fig.show()"
   ]
  },
  {
   "cell_type": "markdown",
   "id": "ff4c7f45-fd8d-4928-9934-055304bef0a7",
   "metadata": {},
   "source": [
    "### hist plot 直方图"
   ]
  },
  {
   "cell_type": "code",
   "execution_count": null,
   "id": "3c1f59aa-6685-4c5d-82f4-e4ebfc766c38",
   "metadata": {},
   "outputs": [],
   "source": [
    "Z = np.random.normal(0,1,100)\n",
    "\n",
    "fig, ax = plt.subplots()\n",
    "ax.hist(Z)\n",
    "fig.show()"
   ]
  },
  {
   "cell_type": "markdown",
   "id": "5a4b1566-9909-407e-be37-4de9f9f3038e",
   "metadata": {},
   "source": [
    "### errorbar plot 误差棒"
   ]
  },
  {
   "cell_type": "code",
   "execution_count": null,
   "id": "b8243ca1-8e28-42b1-88ef-812bd226e04f",
   "metadata": {},
   "outputs": [],
   "source": [
    "X = np.arange(5)\n",
    "Y = np.random.uniform(0,1,5)\n",
    "\n",
    "fig, ax = plt.subplots()\n",
    "ax.errorbar(X,Y,Y/4)\n",
    "cfig.show()"
   ]
  },
  {
   "cell_type": "markdown",
   "id": "acc31deb-bfb8-4fca-a3c0-700a156b1276",
   "metadata": {},
   "source": [
    "### box plot 箱线图"
   ]
  },
  {
   "cell_type": "code",
   "execution_count": null,
   "id": "d917a9fb-f217-41bc-8332-62ddc428f25e",
   "metadata": {},
   "outputs": [],
   "source": [
    "Z = np.random.normal(0,1,(100,3))\n",
    "\n",
    "fig, ax = plt.subplots()\n",
    "ax.boxplot(Z)\n",
    "fig.show()"
   ]
  },
  {
   "cell_type": "markdown",
   "id": "d83c41a0-34cf-44bd-b4f1-31158c85a513",
   "metadata": {},
   "source": [
    "## Tweak 调整图形细节"
   ]
  },
  {
   "cell_type": "markdown",
   "id": "99d6071a-e97e-4329-b9b8-72f3c8c54c9a",
   "metadata": {},
   "source": [
    "### color 颜色"
   ]
  },
  {
   "cell_type": "code",
   "execution_count": null,
   "id": "9cf0ce04-782a-494a-b911-afb490b18007",
   "metadata": {},
   "outputs": [],
   "source": [
    "X = np.linspace(0,4*np.pi,100)\n",
    "Y = np.sin(X)\n",
    "\n",
    "fig, ax = plt.subplots()\n",
    "ax.plot(X,Y,color='black')\n",
    "fig.show()"
   ]
  },
  {
   "cell_type": "markdown",
   "id": "ad85490a-7b3a-4331-957a-ee2a22ac57fd",
   "metadata": {},
   "source": [
    "### linestyle 线型"
   ]
  },
  {
   "cell_type": "code",
   "execution_count": null,
   "id": "4136653b-23cb-465f-9c4b-e803537a9fa3",
   "metadata": {},
   "outputs": [],
   "source": [
    "X = np.linspace(0,4*np.pi,100)\n",
    "Y = np.sin(X)\n",
    "\n",
    "fig, ax = plt.subplots()\n",
    "ax.plot(X,Y,linestyle='--')\n",
    "fig.show()"
   ]
  },
  {
   "cell_type": "markdown",
   "id": "cd07db82-70ee-40dc-9fad-1b05bb16de08",
   "metadata": {},
   "source": [
    "### linewidth 线宽"
   ]
  },
  {
   "cell_type": "code",
   "execution_count": null,
   "id": "eb27fd00-1ddf-4560-87bd-a4228cec78da",
   "metadata": {},
   "outputs": [],
   "source": [
    "X = np.linspace(0,4*np.pi,100)\n",
    "Y = np.sin(X)\n",
    "\n",
    "fig, ax = plt.subplots()\n",
    "ax.plot(X,Y,linewidth=5)\n",
    "fig.show()"
   ]
  },
  {
   "cell_type": "markdown",
   "id": "a46d5113-b48b-4876-80bb-2351e82c44d4",
   "metadata": {},
   "source": [
    "### marker 点型"
   ]
  },
  {
   "cell_type": "code",
   "execution_count": null,
   "id": "76b6d451-d3ae-4464-aa48-6b1069213c98",
   "metadata": {},
   "outputs": [],
   "source": [
    "X = np.linspace(0,4*np.pi,100)\n",
    "Y = np.sin(X)\n",
    "\n",
    "fig, ax = plt.subplots()\n",
    "ax.plot(X,Y,marker='o')\n",
    "fig.show()"
   ]
  },
  {
   "cell_type": "markdown",
   "id": "01db19a8-72a5-4bf4-a938-362072245929",
   "metadata": {},
   "source": [
    "## Organize 组织内容和子图\n",
    "\n",
    "Both several data on one figure, and several subplots.\n",
    "既可以多个数据画在一个图里，也可以组合子图"
   ]
  },
  {
   "cell_type": "markdown",
   "id": "625efb90-373b-4b90-a947-2385e2349b2a",
   "metadata": {},
   "source": [
    "### several data in one 多个数据一张图"
   ]
  },
  {
   "cell_type": "code",
   "execution_count": null,
   "id": "618cc421-bcef-4c73-94f7-ec724dbc358d",
   "metadata": {},
   "outputs": [],
   "source": [
    "X = np.linspace(0,4*np.pi,100)\n",
    "Y1, Y2 = np.sin(X), np.cos(X)\n",
    "\n",
    "fig, ax = plt.subplots()\n",
    "ax.plot(X,Y1,color='C1')\n",
    "ax.plot(X,Y2,color='C2')\n",
    "fig.show()"
   ]
  },
  {
   "cell_type": "markdown",
   "id": "a6cfc3f3-72dd-44cf-8f3b-2a34501c2d18",
   "metadata": {},
   "source": [
    "### subplots 组织子图"
   ]
  },
  {
   "cell_type": "code",
   "execution_count": null,
   "id": "c3c98906-aabf-4652-8261-731de62133e4",
   "metadata": {},
   "outputs": [],
   "source": [
    "X = np.linspace(0,4*np.pi,100)\n",
    "Y1, Y2 = np.sin(X), np.cos(X)\n",
    "\n",
    "fig, axs = plt.subplots(2,1)\n",
    "\n",
    "# fig, axs = plt.subplots((2,1)) Official website version, but not suitable for my version.这是官方给出的事例。但是我的版本下不能执行，我的版本下是上面那么写。 \n",
    "\n",
    "axs[0].plot(X,Y1,color='C1')\n",
    "axs[1].plot(X,Y2,color='C2')\n",
    "fig.show()"
   ]
  },
  {
   "cell_type": "code",
   "execution_count": null,
   "id": "84882453-9f4e-4fda-b36d-56d327d7f8a8",
   "metadata": {},
   "outputs": [],
   "source": [
    "X = np.linspace(0,4*np.pi,100)\n",
    "Y1, Y2 = np.sin(X), np.cos(X)\n",
    "\n",
    "fig, axs = plt.subplots(1,2)\n",
    "\n",
    "# fig, axs = plt.subplots((2,1)) Official website version, but not suitable for my version.这是官方给出的事例。但是我的版本下不能执行，我的版本下是上面那么写。 \n",
    "\n",
    "axs[0].plot(X,Y1,color='C1')\n",
    "axs[1].plot(X,Y2,color='C2')\n",
    "fig.show()"
   ]
  },
  {
   "cell_type": "markdown",
   "id": "38286c7a-857f-44f0-8099-98bd6c17110c",
   "metadata": {},
   "source": [
    "## Label 标题"
   ]
  },
  {
   "cell_type": "code",
   "execution_count": null,
   "id": "68a7885d-a35d-42d7-a1aa-73fe72b25fa4",
   "metadata": {},
   "outputs": [],
   "source": [
    "X = np.linspace(0,4*np.pi,100)\n",
    "Y = np.sin(X)\n",
    "\n",
    "fig, ax = plt.subplots()\n",
    "ax.plot(X,Y)\n",
    "ax.set_title('A Title')\n",
    "ax.set_xlabel('X label')\n",
    "ax.set_ylabel('Y label')\n",
    "fig.show()"
   ]
  },
  {
   "cell_type": "markdown",
   "id": "850ee322-e041-4f92-9f97-681ee33fa4c3",
   "metadata": {},
   "source": [
    "## Explore and save 观看和保存\n",
    "\n",
    "User interface allows zooming and paning the figure under mouse.\n",
    "\n",
    "图片的用户交互界面可以用鼠标直接缩放。大家尝试一下即可掌握(当然)。"
   ]
  }
 ],
 "metadata": {
  "interpreter": {
   "hash": "07efdcd4b820c98a756949507a4d29d7862823915ec7477944641bea022f4f62"
  },
  "kernelspec": {
   "display_name": "Python [conda env:anaconda3]",
   "language": "python",
   "name": "python3"
  },
  "language_info": {
   "codemirror_mode": {
    "name": "ipython",
    "version": 3
   },
   "file_extension": ".py",
   "mimetype": "text/x-python",
   "name": "python",
   "nbconvert_exporter": "python",
   "pygments_lexer": "ipython3",
   "version": "3.7.0"
  }
 },
 "nbformat": 4,
 "nbformat_minor": 5
}
