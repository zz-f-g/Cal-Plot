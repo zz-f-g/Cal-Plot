{
 "cells": [
  {
   "cell_type": "markdown",
   "metadata": {},
   "source": [
    "# 1D Search Algorithms"
   ]
  },
  {
   "cell_type": "markdown",
   "metadata": {},
   "source": [
    "## 7.3\n",
    "\n",
    "$$\n",
    "f(x) = 8e^{1-x} + 7 \\ln x\n",
    "$$"
   ]
  },
  {
   "cell_type": "markdown",
   "metadata": {},
   "source": [
    "1. 绘制函数 $f(x)$ 在闭区间 $[1, 2]$ 上随 $x$ 变化的曲线，并验证 $f(x)$ 在给定区间上的确是单峰的。"
   ]
  },
  {
   "cell_type": "code",
   "execution_count": 4,
   "metadata": {},
   "outputs": [
    {
     "data": {
      "text/plain": [
       "<Figure size 2400x1800 with 1 Axes>"
      ]
     },
     "metadata": {},
     "output_type": "display_data"
    }
   ],
   "source": [
    "from math import log,e\n",
    "import numpy as np\n",
    "import matplotlib.pyplot as plt\n",
    "\n",
    "def f(x):\n",
    "    return 8*e**(1-x) + 7*log(x)\n",
    "x = np.linspace(1,2,100)\n",
    "y = list(map(f,x))\n",
    "\n",
    "fig,ax = plt.subplots(figsize=(8,6),dpi=300)\n",
    "ax.plot(x,y)\n",
    "ax.set_xlim([1,2])\n",
    "ax.set_xlabel(\"x\")\n",
    "ax.set_ylabel(\"f(x)\")\n",
    "plt.show()"
   ]
  },
  {
   "cell_type": "markdown",
   "metadata": {},
   "source": [
    "2. 编写程序，利用黄金分割法，将函数的极小点压缩在 0.23 的长度区间内，列出所有的中间结果。"
   ]
  },
  {
   "cell_type": "code",
   "execution_count": 5,
   "metadata": {},
   "outputs": [
    {
     "name": "stdout",
     "output_type": "stream",
     "text": [
      "—————————————————————————————————————————\n",
      "| 1\t| 1.38\t| 1.38\t| 1.53\t| 1.53\t|\n",
      "—————————————————————————————————————————\n",
      "| 2\t| 2\t| 1.76\t| 1.76\t| 1.67\t|\n",
      "—————————————————————————————————————————\n"
     ]
    }
   ],
   "source": [
    "from math import sqrt\n",
    "\n",
    "def GoldenSectionSearch(func, start, end, precision):\n",
    "    rho = (3-sqrt(5))/2\n",
    "    a,b = [start],[end]\n",
    "    ak = start + rho * (end - start)\n",
    "    bk = end - rho * (end - start)\n",
    "    fak = func(ak)\n",
    "    fbk = func(bk)\n",
    "    while (end - start > precision):\n",
    "        if (fak <= fbk):\n",
    "            end = bk\n",
    "            bk,fbk = ak,fak\n",
    "            ak = start + rho * (end - start)\n",
    "            fak = func(ak)\n",
    "        else:\n",
    "            start = ak\n",
    "            ak, fak = bk, fbk\n",
    "            bk = end - rho * (end - start)\n",
    "            fbk = func(bk)\n",
    "        a.append(start)\n",
    "        b.append(end)\n",
    "    return (a,b)\n",
    "\n",
    "def PrintNumTab(*args,precision=3):\n",
    "    s=f'| %.{precision}g'\n",
    "    for a in args:\n",
    "        print('————————'*len(a)+'—')\n",
    "        for i in a:\n",
    "            print(s%i,end='\\t')\n",
    "        print('|')\n",
    "    print('————————'*len(a)+'—')\n",
    "\n",
    "PrintNumTab(*GoldenSectionSearch(f,1,2,0.23))"
   ]
  },
  {
   "cell_type": "markdown",
   "metadata": {},
   "source": [
    "3. 重复问题 2，将黄金分割法替换为斐波那契数列法，$\\varepsilon = 0.05$，用表格列出所有结果。"
   ]
  },
  {
   "cell_type": "code",
   "execution_count": 7,
   "metadata": {},
   "outputs": [
    {
     "name": "stdout",
     "output_type": "stream",
     "text": [
      "—————————————————————————————————\n",
      "| 1\t| 1.4\t| 1.4\t| 1.58\t|\n",
      "—————————————————————————————————\n",
      "| 2\t| 2\t| 1.8\t| 1.8\t|\n",
      "—————————————————————————————————\n"
     ]
    }
   ],
   "source": [
    "def FibonacciSearch(func, start, end, precision, epsilon):\n",
    "    x,y = 1,1\n",
    "    a,b = [start],[end]\n",
    "    while (precision*y<(end-start)):\n",
    "        temp = x\n",
    "        x = y\n",
    "        y = temp+y\n",
    "\n",
    "    ak = (x*start+(y-x)*end)/y\n",
    "    bk = (x*end+(y-x)*start)/y\n",
    "    fak = func(ak)\n",
    "    fbk = func(bk)\n",
    "\n",
    "    while (y>2):\n",
    "        temp = x\n",
    "        x = y - x\n",
    "        y = temp\n",
    "        if (fak <= fbk):\n",
    "            end = bk\n",
    "            bk,fbk = ak,fak\n",
    "            ak = (x*start+(y-x)*end)/y\n",
    "            fak = func(ak)\n",
    "        else:\n",
    "            start = ak\n",
    "            ak, fak = bk, fbk\n",
    "            bk = (x*end+(y-x)*start)/y\n",
    "            fbk = func(bk)\n",
    "        a.append(start)\n",
    "        b.append(end)\n",
    "    \n",
    "    if (y==2):\n",
    "        ak = (start+end)/2 - epsilon*(end-start)\n",
    "        bk = (start+end)/2 + epsilon*(end-start)\n",
    "        if (func(ak) <= func(bk)):\n",
    "            a.append(start)\n",
    "            b.append(bk)\n",
    "        else:\n",
    "            a.append(ak)\n",
    "            b.append(end)\n",
    "    return (a,b)\n",
    "\n",
    "PrintNumTab(*FibonacciSearch(f,1,2,0.23,0.05))"
   ]
  },
  {
   "cell_type": "markdown",
   "metadata": {},
   "source": [
    "## 7.10"
   ]
  },
  {
   "cell_type": "markdown",
   "metadata": {},
   "source": [
    "1. 编写程序，利用割线法求解方程 $g(x) = 0$，迭代的停止规则为\n",
    "   $$\n",
    "   |x^{(k+1)} - x^{(k)}| < |x^{(k)}| \\varepsilon\n",
    "   $$\n",
    "   $\\varepsilon$ 为给定正常数。"
   ]
  },
  {
   "cell_type": "code",
   "execution_count": 4,
   "metadata": {},
   "outputs": [],
   "source": [
    "def SecantMethod(f, x1, x2, precision):\n",
    "    def GetNullPoint(f, x1, x2):\n",
    "        return (f(x2)*x1-f(x1)*x2)/(f(x2)-f(x1))\n",
    "    PointLog = [x1, x2]\n",
    "    while (abs(x2-x1)>precision*abs(x1)):\n",
    "        temp = x2\n",
    "        x2 = GetNullPoint(f, x1, x2)\n",
    "        x1 = temp\n",
    "        PointLog.append(x2)\n",
    "    return PointLog"
   ]
  },
  {
   "cell_type": "markdown",
   "metadata": {},
   "source": [
    "2. 利用割线法解方程，并求出结果对应的函数值。参数：$x^{(-1)} = 0, x^{(0)} = 1, \\epsilon = 10^{-5}$\n",
    "\n",
    "$$\n",
    "g(x) = (2x-1)^{2} + 4(4-1024x)^{4} - 2\n",
    "$$"
   ]
  },
  {
   "cell_type": "code",
   "execution_count": 5,
   "metadata": {},
   "outputs": [
    {
     "name": "stdout",
     "output_type": "stream",
     "text": [
      "x0=0.0032135,g(x0)=3.5557e-07\n"
     ]
    }
   ],
   "source": [
    "g = lambda x: (2*x-1)**2 + 4*(4-1024*x)**4 - 2\n",
    "x = SecantMethod(g, 0, 1, 1e-5)\n",
    "x0 = x[-1]\n",
    "print(\"x0=%.5g,g(x0)=%.5g\"%(x0, g(x0)))"
   ]
  }
 ],
 "metadata": {
  "interpreter": {
   "hash": "330d48dae4fdabd3806a26b9877cfe576cbfa8f61f48b4bf273db479b0cd6eb1"
  },
  "kernelspec": {
   "display_name": "Python 3",
   "language": "python",
   "name": "python3"
  },
  "language_info": {
   "codemirror_mode": {
    "name": "ipython",
    "version": 3
   },
   "file_extension": ".py",
   "mimetype": "text/x-python",
   "name": "python",
   "nbconvert_exporter": "python",
   "pygments_lexer": "ipython3",
   "version": "3.7.0"
  }
 },
 "nbformat": 4,
 "nbformat_minor": 2
}
