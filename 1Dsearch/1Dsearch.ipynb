{
 "cells": [
  {
   "cell_type": "markdown",
   "metadata": {},
   "source": [
    "# 1D Search Algorithms"
   ]
  },
  {
   "cell_type": "markdown",
   "metadata": {},
   "source": [
    "## 7.3\n",
    "\n",
    "$$\n",
    "f(x) = 8e^{1-x} + 7 \\ln x\n",
    "$$"
   ]
  },
  {
   "cell_type": "markdown",
   "metadata": {},
   "source": [
    "1. 绘制函数 $f(x)$ 在闭区间 $[1, 2]$ 上随 $x$ 变化的曲线，并验证 $f(x)$ 在给定区间上的确是单峰的。"
   ]
  },
  {
   "cell_type": "code",
   "execution_count": 3,
   "metadata": {},
   "outputs": [
    {
     "data": {
      "text/plain": [
       "<Figure size 2400x1800 with 1 Axes>"
      ]
     },
     "metadata": {},
     "output_type": "display_data"
    }
   ],
   "source": [
    "from math import log,e\n",
    "import numpy as np\n",
    "import matplotlib.pyplot as plt\n",
    "\n",
    "def f(x):\n",
    "    return 8*e**(1-x) + 7*log(x)\n",
    "x = np.linspace(1,2,100)\n",
    "y = list(map(f,x))\n",
    "\n",
    "fig,ax = plt.subplots(figsize=(8,6),dpi=300)\n",
    "ax.plot(x,y)\n",
    "ax.set_xlim([1,2])\n",
    "ax.set_xlabel(\"x\")\n",
    "ax.set_ylabel(\"f(x)\")\n",
    "plt.show()"
   ]
  },
  {
   "cell_type": "markdown",
   "metadata": {},
   "source": [
    "2. 编写程序，利用黄金分割法，将函数的极小点压缩在 0.23 的长度区间内，列出所有的中间结果。"
   ]
  },
  {
   "cell_type": "code",
   "execution_count": 4,
   "metadata": {},
   "outputs": [
    {
     "name": "stdout",
     "output_type": "stream",
     "text": [
      "—————————————————————————————————————————\n",
      "| 1\t| 1.38\t| 1.38\t| 1.53\t| 1.53\t|\n",
      "—————————————————————————————————————————\n",
      "| 2\t| 2\t| 1.76\t| 1.76\t| 1.67\t|\n",
      "—————————————————————————————————————————\n"
     ]
    }
   ],
   "source": [
    "from math import sqrt,log\n",
    "\n",
    "def GoldenSectionMethod(f, start, end, precision):\n",
    "    rho = (3-sqrt(5))/2\n",
    "    a,b = [start],[end]\n",
    "    ak = a[-1]+rho*(b[-1]-a[-1])\n",
    "    bk = b[-1]-rho*(b[-1]-a[-1])\n",
    "    while (b[-1]-a[-1]>precision):\n",
    "        if (f(ak) <= f(bk)):\n",
    "            a.append(a[-1])\n",
    "            b.append(bk)\n",
    "            bk = ak\n",
    "            ak = a[-1]+rho*(b[-1]-a[-1])\n",
    "        else:\n",
    "            a.append(ak)\n",
    "            b.append(b[-1])\n",
    "            ak = bk\n",
    "            bk = b[-1]-rho*(b[-1]-a[-1])\n",
    "    return (a,b)\n",
    "\n",
    "def PrintNumTab(a,b,precision=3):\n",
    "    s='| %%.%dg'%precision\n",
    "    print('————————'*len(a)+'—')\n",
    "    for i in a:\n",
    "        print('| %.3g'%i,end='\\t')\n",
    "    print('|')\n",
    "    print('————————'*len(a)+'—')\n",
    "    for i in b:\n",
    "        print('| %.3g'%i,end='\\t')\n",
    "    print('|')\n",
    "    print('————————'*len(a)+'—')\n",
    "\n",
    "PrintNumTab(*GoldenSectionMethod(f,1,2,0.23))"
   ]
  },
  {
   "cell_type": "markdown",
   "metadata": {},
   "source": [
    "3. 重复问题 2，将黄金分割法替换为斐波那契数列法，$\\varepsilon = 0.05$，用表格列出所有结果。"
   ]
  },
  {
   "cell_type": "code",
   "execution_count": null,
   "metadata": {},
   "outputs": [],
   "source": []
  },
  {
   "cell_type": "markdown",
   "metadata": {},
   "source": [
    "## 7.10"
   ]
  },
  {
   "cell_type": "markdown",
   "metadata": {},
   "source": [
    "1. 编写程序，利用割线法求解方程 $g(x) = 0$，迭代的停止规则为\n",
    "   $$\n",
    "   |x^{(k+1)} - x^{(k)}| < |x^{(k)}| \\varepsilon\n",
    "   $$\n",
    "   $\\varepsilon$ 为给定正常数。"
   ]
  },
  {
   "cell_type": "code",
   "execution_count": 8,
   "metadata": {},
   "outputs": [],
   "source": [
    "def SecantMethod(f, x1, x2, precision):\n",
    "    def GetNullPoint(f, x1, x2):\n",
    "        return (f(x2)*x1-f(x1)*x2)/(f(x2)-f(x1))\n",
    "    PointLog = [x1, x2]\n",
    "    while (abs(x2-x1)>precision*abs(x1)):\n",
    "        temp = x2\n",
    "        x2 = GetNullPoint(f, x1, x2)\n",
    "        x1 = temp\n",
    "        PointLog.append(x2)\n",
    "    return PointLog"
   ]
  },
  {
   "cell_type": "markdown",
   "metadata": {},
   "source": [
    "2. 利用割线法解方程，并求出结果对应的函数值。参数：$x^{(-1)} = 0, x^{(0)} = 1, \\epsilon = 10^{-5}$\n",
    "\n",
    "$$\n",
    "g(x) = (2x-1)^{2} + 4(4-1024x)^{4}\n",
    "$$"
   ]
  },
  {
   "cell_type": "code",
   "execution_count": 10,
   "metadata": {},
   "outputs": [
    {
     "name": "stdout",
     "output_type": "stream",
     "text": [
      "0.0038664094786061954 0.9846052390877005\n",
      "[0, 1, -2.3673539047528324e-10, -4.734708383395378e-10, 0.0009775121818762856, 0.0014304909394271194, 0.0019059991705781961, 0.00226400576658851, 0.0025713619379775926, 0.0028263496425075542, 0.0030489345167639906, 0.0032565463769951347, 0.0034873060706102775, 0.003886047462814129, 0.006750145062636765, 0.00387624547776693, 0.0038664095283834055, 0.21188948017907833, 0.0038664095034948004, 0.0038664094786061954]\n"
     ]
    }
   ],
   "source": [
    "g = lambda x: (2*x-1)**2 + 4*(4-1024*x)**4\n",
    "x = SecantMethod(g, 0, 1, 1e-5)\n",
    "x0 = x[-1]\n",
    "print(x0, g(x0))\n",
    "print(x)"
   ]
  }
 ],
 "metadata": {
  "interpreter": {
   "hash": "330d48dae4fdabd3806a26b9877cfe576cbfa8f61f48b4bf273db479b0cd6eb1"
  },
  "kernelspec": {
   "display_name": "Python 3.7.0 ('base')",
   "language": "python",
   "name": "python3"
  },
  "language_info": {
   "codemirror_mode": {
    "name": "ipython",
    "version": 3
   },
   "file_extension": ".py",
   "mimetype": "text/x-python",
   "name": "python",
   "nbconvert_exporter": "python",
   "pygments_lexer": "ipython3",
   "version": "3.7.0"
  },
  "orig_nbformat": 4
 },
 "nbformat": 4,
 "nbformat_minor": 2
}
